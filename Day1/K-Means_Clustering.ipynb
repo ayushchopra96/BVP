{
 "cells": [
  {
   "cell_type": "code",
   "execution_count": 1,
   "metadata": {
    "collapsed": true
   },
   "outputs": [],
   "source": [
    "import numpy as np\n",
    "import matplotlib.pyplot as plt\n",
    "%matplotlib inline\n",
    "import pandas as pd"
   ]
  },
  {
   "cell_type": "code",
   "execution_count": 2,
   "metadata": {
    "collapsed": false
   },
   "outputs": [
    {
     "name": "stdout",
     "output_type": "stream",
     "text": [
      "(500, 2)\n",
      "(500, 2)\n"
     ]
    }
   ],
   "source": [
    "## Phase 1: Generation of Dataset\n",
    "mean_01 = np.asarray([0.1,0.5])\n",
    "mean_02 = np.asarray([6.1,6.7])\n",
    "\n",
    "cov_01 = np.asarray([[1.0, 0.1], [0.1, 1.0]])\n",
    "cov_02 = np.asarray([[1.0, 0.1], [0.1, 1.0]])\n",
    "\n",
    "dist_01 = np.random.multivariate_normal(mean_01, cov_01, 500)\n",
    "dist_02 = np.random.multivariate_normal(mean_02, cov_02, 500)\n",
    "\n",
    "print dist_01.shape\n",
    "print dist_02.shape"
   ]
  },
  {
   "cell_type": "code",
   "execution_count": 5,
   "metadata": {
    "collapsed": false
   },
   "outputs": [
    {
     "data": {
      "image/png": "[encoded data removed]",
      "text/plain": [
       "<matplotlib.figure.Figure at 0x7f9a5ae3f450>"
      ]
     },
     "metadata": {},
     "output_type": "display_data"
    }
   ],
   "source": [
    "plt.scatter(dist_01[:,0], dist_01[:,1], c='red')\n",
    "\n",
    "plt.scatter(dist_02[:,0], dist_02[:,1], c='blue')\n",
    "plt.show()"
   ]
  },
  {
   "cell_type": "code",
   "execution_count": 6,
   "metadata": {
    "collapsed": false
   },
   "outputs": [
    {
     "name": "stdout",
     "output_type": "stream",
     "text": [
      "(1000, 2)\n"
     ]
    }
   ],
   "source": [
    "data = np.concatenate((dist_01, dist_02))\n",
    "print data.shape"
   ]
  },
  {
   "cell_type": "code",
   "execution_count": 18,
   "metadata": {
    "collapsed": true
   },
   "outputs": [],
   "source": [
    "## Phase 2: Initialise Clustering\n",
    "K = 4\n",
    "num_iters = 4\n",
    "clusters = {}\n",
    "colors = ['red', 'yellow', 'pink', 'green']\n",
    "for cx in list(range(K)):\n",
    "    cluster_values = {\n",
    "        'centroid': np.random.uniform(low=data.min(), high=data.max(), size=(data.shape[1])), ## to be initialised randomly\n",
    "        'points': [],\n",
    "        'color': colors[cx],\n",
    "    }\n",
    "    clusters[cx] = cluster_values"
   ]
  },
  {
   "cell_type": "code",
   "execution_count": 19,
   "metadata": {
    "collapsed": false
   },
   "outputs": [
    {
     "name": "stdout",
     "output_type": "stream",
     "text": [
      "[-0.69666006  9.85196806]\n",
      "(2,)\n",
      "[6.69313939 2.42074783]\n",
      "(2,)\n",
      "[6.73921814 9.26166152]\n",
      "(2,)\n",
      "[3.92709454 3.81676557]\n",
      "(2,)\n"
     ]
    }
   ],
   "source": [
    "for cx in range(K):\n",
    "    print clusters[cx]['centroid']\n",
    "    print clusters[cx]['centroid'].shape"
   ]
  },
  {
   "cell_type": "code",
   "execution_count": 21,
   "metadata": {
    "collapsed": false
   },
   "outputs": [],
   "source": [
    "## Distance Function"
   ]
  },
  {
   "cell_type": "code",
   "execution_count": 22,
   "metadata": {
    "collapsed": false
   },
   "outputs": [],
   "source": [
    "## Phase 3: Logic Implementation"
   ]
  },
  {
   "cell_type": "code",
   "execution_count": null,
   "metadata": {
    "collapsed": true
   },
   "outputs": [],
   "source": []
  }
 ],
 "metadata": {
  "kernelspec": {
   "display_name": "Python 2",
   "language": "python",
   "name": "python2"
  },
  "language_info": {
   "codemirror_mode": {
    "name": "ipython",
    "version": 2
   },
   "file_extension": ".py",
   "mimetype": "text/x-python",
   "name": "python",
   "nbconvert_exporter": "python",
   "pygments_lexer": "ipython2",
   "version": "2.7.12"
  }
 },
 "nbformat": 4,
 "nbformat_minor": 2
}
