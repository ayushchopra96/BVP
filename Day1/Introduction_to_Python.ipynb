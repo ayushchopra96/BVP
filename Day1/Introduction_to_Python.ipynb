{
 "cells": [
  {
   "cell_type": "code",
   "execution_count": 3,
   "metadata": {
    "collapsed": false
   },
   "outputs": [
    {
     "name": "stdout",
     "output_type": "stream",
     "text": [
      "<type 'str'>\n",
      "<type 'int'>\n",
      "<type 'float'>\n"
     ]
    }
   ],
   "source": [
    "## Variables and datatypes\n",
    "s = 'string'\n",
    "print type(s)\n",
    "s = 2\n",
    "print type(s)\n",
    "s = 2.0\n",
    "print type(s)"
   ]
  },
  {
   "cell_type": "code",
   "execution_count": 8,
   "metadata": {
    "collapsed": false
   },
   "outputs": [
    {
     "name": "stdout",
     "output_type": "stream",
     "text": [
      "['this', 'is', 'a', 'string']\n",
      "<type 'list'>\n",
      "this+is+a+string\n"
     ]
    }
   ],
   "source": [
    "## String Operations - Split and Join\n",
    "s = 'this.is.a.string'\n",
    "ans = s.split('.')\n",
    "print ans\n",
    "print type(ans)\n",
    "\n",
    "new_s = '+'.join(ans)\n",
    "print new_s"
   ]
  },
  {
   "cell_type": "code",
   "execution_count": 14,
   "metadata": {
    "collapsed": false
   },
   "outputs": [
    {
     "name": "stdout",
     "output_type": "stream",
     "text": [
      "<type 'list'>\n",
      "[10]\n",
      "[10, 15]\n",
      "2\n",
      "[10, 13, 15]\n"
     ]
    }
   ],
   "source": [
    "## Lists\n",
    "x = []\n",
    "x = list()\n",
    "print type(x)\n",
    "\n",
    "x.append(10)\n",
    "print x\n",
    "x.append(15)\n",
    "print x\n",
    "print len(x)\n",
    "\n",
    "x.insert(1, 13)\n",
    "print x"
   ]
  },
  {
   "cell_type": "code",
   "execution_count": 17,
   "metadata": {
    "collapsed": false
   },
   "outputs": [
    {
     "name": "stdout",
     "output_type": "stream",
     "text": [
      "[0, 1, 2, 3, 4]\n",
      "<type 'list'>\n",
      "[3, 4, 5, 6, 7, 8]\n",
      "<type 'list'>\n"
     ]
    }
   ],
   "source": [
    "## Range\n",
    "x = range(5)\n",
    "print x\n",
    "print type(x)\n",
    "\n",
    "x2 = range(3, 9)\n",
    "print x2\n",
    "print type(x2)"
   ]
  },
  {
   "cell_type": "code",
   "execution_count": 24,
   "metadata": {
    "collapsed": false
   },
   "outputs": [
    {
     "name": "stdout",
     "output_type": "stream",
     "text": [
      "[1, 2, 3, 4, 5, 6, 7, 8, 9, 10, 11, 12, 13, 14]\n",
      "[2, 4]\n",
      "[1, 2, 3, 4, 5, 6, 7, 8, 9, 10, 11, 12, 13]\n"
     ]
    }
   ],
   "source": [
    "## List slicing\n",
    "x = range(1, 15)\n",
    "print x\n",
    "x[-1]\n",
    "x[2]\n",
    "x[-3]\n",
    "print x[1:5:2]\n",
    "\n",
    "print x[0:-1]"
   ]
  },
  {
   "cell_type": "code",
   "execution_count": 25,
   "metadata": {
    "collapsed": false
   },
   "outputs": [
    {
     "data": {
      "text/plain": [
       "100"
      ]
     },
     "execution_count": 25,
     "metadata": {},
     "output_type": "execute_result"
    }
   ],
   "source": [
    "## Function\n",
    "def get_square(inp):\n",
    "    return inp*inp\n",
    "get_square(10)"
   ]
  },
  {
   "cell_type": "code",
   "execution_count": 26,
   "metadata": {
    "collapsed": true
   },
   "outputs": [],
   "source": [
    "## Classes\n",
    "class MyClass:\n",
    "    arr1 = [] \n",
    "    def __init__(self,inp):\n",
    "        self.arr2 = []\n",
    "        self.arr1.append(inp)\n",
    "        self.arr2.append(inp)\n",
    "    def sqr(self):\n",
    "        pass"
   ]
  },
  {
   "cell_type": "code",
   "execution_count": 27,
   "metadata": {
    "collapsed": false
   },
   "outputs": [
    {
     "name": "stdout",
     "output_type": "stream",
     "text": [
      "[10]\n",
      "[10]\n",
      "[10, 14]\n",
      "[14]\n",
      "[10, 14, 16]\n",
      "[16]\n"
     ]
    }
   ],
   "source": [
    "o1 = MyClass(10)\n",
    "print o1.arr1\n",
    "print o1.arr2\n",
    "o2 = MyClass(14)\n",
    "print o2.arr1\n",
    "print o2.arr2\n",
    "o3 = MyClass(16)\n",
    "print o3.arr1\n",
    "print o3.arr2"
   ]
  },
  {
   "cell_type": "code",
   "execution_count": null,
   "metadata": {
    "collapsed": true
   },
   "outputs": [],
   "source": []
  }
 ],
 "metadata": {
  "kernelspec": {
   "display_name": "Python 2",
   "language": "python",
   "name": "python2"
  },
  "language_info": {
   "codemirror_mode": {
    "name": "ipython",
    "version": 2
   },
   "file_extension": ".py",
   "mimetype": "text/x-python",
   "name": "python",
   "nbconvert_exporter": "python",
   "pygments_lexer": "ipython2",
   "version": "2.7.12"
  }
 },
 "nbformat": 4,
 "nbformat_minor": 2
}
